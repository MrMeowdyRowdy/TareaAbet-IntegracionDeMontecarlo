{
 "cells": [
  {
   "cell_type": "code",
   "execution_count": null,
   "id": "fc9e385e-d691-4e6d-978d-17920aa067a6",
   "metadata": {},
   "outputs": [],
   "source": [
    "conda install cudatoolkit"
   ]
  },
  {
   "cell_type": "code",
   "execution_count": null,
   "id": "ca1b33b2-1360-4885-8ecd-08a914c291bc",
   "metadata": {},
   "outputs": [],
   "source": [
    "conda install numba"
   ]
  },
  {
   "cell_type": "code",
   "execution_count": 1,
   "id": "bb0b2526-b011-4ac6-b288-09e18870e247",
   "metadata": {},
   "outputs": [],
   "source": [
    "import numpy as np\n",
    "import matplotlib.pyplot as plt\n",
    "import math\n",
    "import numba \n",
    "from numba import cuda\n",
    "from numba import jit\n",
    "from numba import njit"
   ]
  },
  {
   "cell_type": "code",
   "execution_count": null,
   "id": "4194b231-2663-407c-8643-8119498c099c",
   "metadata": {},
   "outputs": [],
   "source": [
    "\n",
    "\n",
    "@njit\n",
    "def monte_carlo_pi(nsamples):\n",
    "    acc = 0\n",
    "    for i in range(nsamples):\n",
    "        x = random.random()\n",
    "        y = random.random()\n",
    "        if (x ** 2 + y ** 2) < 1.0:\n",
    "            acc += 1\n",
    "    return 4.0 * acc / nsamples"
   ]
  }
 ],
 "metadata": {
  "kernelspec": {
   "display_name": "Python 3 (ipykernel)",
   "language": "python",
   "name": "python3"
  },
  "language_info": {
   "codemirror_mode": {
    "name": "ipython",
    "version": 3
   },
   "file_extension": ".py",
   "mimetype": "text/x-python",
   "name": "python",
   "nbconvert_exporter": "python",
   "pygments_lexer": "ipython3",
   "version": "3.9.16"
  }
 },
 "nbformat": 4,
 "nbformat_minor": 5
}
