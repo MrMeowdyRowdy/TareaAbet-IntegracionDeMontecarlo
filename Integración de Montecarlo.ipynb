{
 "cells": [
  {
   "cell_type": "markdown",
   "id": "8491fb23-db04-426a-981f-84cfe977889b",
   "metadata": {},
   "source": [
    "GRUPO:\n",
    "\n",
    "\n",
    " \n",
    "\n"
   ]
  },
  {
   "cell_type": "markdown",
   "id": "cf9d5c7e-0394-4aa4-bd5b-9f76e8a0f5cc",
   "metadata": {},
   "source": [
    "Bedón Adrián"
   ]
  },
  {
   "cell_type": "markdown",
   "id": "07776221-5ea9-417c-8368-153fd3f433d0",
   "metadata": {},
   "source": [
    "Merlo José Miguel"
   ]
  },
  {
   "cell_type": "markdown",
   "id": "f4f9398b-634c-4062-b6bb-723291a9a2f2",
   "metadata": {},
   "source": [
    "Moreta Andrés"
   ]
  },
  {
   "cell_type": "markdown",
   "id": "4d5646e3-2f16-4a46-b89a-279ccfb1a287",
   "metadata": {},
   "source": [
    "Ocaña Dennis"
   ]
  },
  {
   "cell_type": "markdown",
   "id": "8f55d4c6-85d6-4812-826c-4d105b89d12e",
   "metadata": {},
   "source": [
    "Ramos Xavier"
   ]
  },
  {
   "cell_type": "markdown",
   "id": "6ac98bb8-d5ef-427b-8cf3-4a167532f3d7",
   "metadata": {},
   "source": [
    " "
   ]
  },
  {
   "cell_type": "markdown",
   "id": "bb6a5318-8d62-4fe8-ba10-7e376f7dfc8e",
   "metadata": {},
   "source": [
    "INSTALACION DE COMPONENTES PARA ACELERACION POR GPU NVIDIA\n",
    "En caso de no poder ser ejecutado o disponer de una GPU de AMD \n",
    "saltar estas líneas y eliminar las notaciones de @njit"
   ]
  },
  {
   "cell_type": "code",
   "execution_count": null,
   "id": "fc9e385e-d691-4e6d-978d-17920aa067a6",
   "metadata": {},
   "outputs": [],
   "source": [
    "# Para su uso con Numba\n",
    "# Requiere una GPU de NVIDIA\n",
    "conda install cudatoolkit "
   ]
  },
  {
   "cell_type": "code",
   "execution_count": null,
   "id": "ca1b33b2-1360-4885-8ecd-08a914c291bc",
   "metadata": {},
   "outputs": [],
   "source": [
    "# Libreria numba para permitir matemáticas rápidas\n",
    "# y metodos acelerados por GPU\n",
    "conda install numba"
   ]
  },
  {
   "cell_type": "markdown",
   "id": "fa433a76-3ded-4705-9321-819e0574dc42",
   "metadata": {},
   "source": [
    " "
   ]
  },
  {
   "cell_type": "markdown",
   "id": "2d2cd5f7-38b0-4b97-9859-92cf4bafa892",
   "metadata": {},
   "source": [
    "Importación de Librerias"
   ]
  },
  {
   "cell_type": "code",
   "execution_count": 1,
   "id": "bb0b2526-b011-4ac6-b288-09e18870e247",
   "metadata": {},
   "outputs": [],
   "source": [
    "import numpy as np #importamos numpy para utilizar linspace\n",
    "import matplotlib.pyplot as plt #importamos para graficar las funciones\n",
    "import numba as nb #se importa numba para aceleracion por GPU en diversas funciones\n",
    "from numba import cuda #para aceleracion por GPU en diversas funciones\n",
    "from numba import jit #para aceleracion por GPU en diversas funciones\n",
    "from numba import njit #para aceleracion por GPU en diversas funciones"
   ]
  },
  {
   "cell_type": "markdown",
   "id": "fd58b59b-c57f-49db-9948-5ca7a2b89c80",
   "metadata": {},
   "source": [
    " "
   ]
  },
  {
   "cell_type": "markdown",
   "id": "db3df709-a5dc-4e8f-b645-3c42db4912b0",
   "metadata": {},
   "source": [
    "Definimos las funciones para el calculo de los circulos externos"
   ]
  },
  {
   "cell_type": "markdown",
   "id": "8423c54d-2ba4-42d8-85d6-06aa6a48509f",
   "metadata": {},
   "source": [
    "Estas funciones fueron deducidas con la ayuda del portal https://www.bbc.co.uk/bitesize/guides/z9pssbk/revision/2"
   ]
  },
  {
   "attachments": {
    "formula%20circulo.png": {
     "image/png": "[encoded data removed]"
    }
   },
   "cell_type": "markdown",
   "id": "b11f0a35",
   "metadata": {},
   "source": [
    "![formula%20circulo.png](attachment:formula%20circulo.png)"
   ]
  },
  {
   "cell_type": "markdown",
   "id": "5b82ae2c-24cf-47bd-962b-0af34002fbd4",
   "metadata": {},
   "source": [
    "Esta fue despejada para y usando Symbolab y posteriormente ajustada usando desmos. El resultado es"
   ]
  },
  {
   "attachments": {
    "633260ca-9732-41c8-b9e6-f44002d81016.png": {
     "image/png": "[encoded data removed]"
    }
   },
   "cell_type": "markdown",
   "id": "057784cd-1b70-49a5-9234-ccb4ad8622e6",
   "metadata": {},
   "source": [
    "![formula despejada.png](attachment:633260ca-9732-41c8-b9e6-f44002d81016.png)"
   ]
  },
  {
   "cell_type": "markdown",
   "id": "f3d3d240-db99-4dcd-b47b-8e8cefc71bc8",
   "metadata": {},
   "source": [
    "Siendo la formula con la raíz positiva para la parte superior o convexa del círculo y la fórmula con la raíz negativa para la parte cóncava o inferior del círculo. De esta manera queda:"
   ]
  },
  {
   "cell_type": "code",
   "execution_count": null,
   "id": "172dd764-6ca6-450d-aec5-4fa4fc2a44ff",
   "metadata": {},
   "outputs": [],
   "source": [
    "@njit\n",
    "def f(x,r,a,b): # definimos la función para la parte superior del círculo\n",
    "    \"\"\"\n",
    "    r: radio\n",
    "    x: posicion a evaluar\n",
    "    a: Coordenada X en el plano cartesiano\n",
    "    b: Coordenada Y en el plano cartesiano\n",
    "    \"\"\"\n",
    "    y = np.sqrt(r**2-x**2+2*a*x-a**2)+b # función para el círculo superior\n",
    "    return y;  # evaluamos fx"
   ]
  },
  {
   "cell_type": "code",
   "execution_count": null,
   "id": "55ae51bd-05a3-4d0d-8f0e-d906f70f2d1c",
   "metadata": {},
   "outputs": [],
   "source": [
    "@njit\n",
    "def fm(x,r,a,b): # definimos la función para la parte inferior del circulo\n",
    "    \"\"\"í    r: radio\n",
    "    x: posicion a evaluar\n",
    "    a: Coordenada X en el plano cartesiano\n",
    "    b: Coordenada Y en el plano cartesiano\n",
    "    \"\"\"\n",
    "    y = -(np.sqrt(r**2-x**2+2*a*x-a**2)) + b # función para el círculo inferior\n",
    "    return y;  # evaluamos fx"
   ]
  },
  {
   "cell_type": "markdown",
   "id": "eb90795c-d43d-4a4e-8a1b-7d40555995e3",
   "metadata": {},
   "source": [
    " "
   ]
  },
  {
   "cell_type": "markdown",
   "id": "4cf72d5d-9396-4cdb-9c66-885175a14551",
   "metadata": {},
   "source": [
    "Calcularemos el área bajo la curva usando Montecarlo\n",
    "Usando el método de sampling.\n",
    "\n",
    "Abajo quedan declaradas las funciones a usar"
   ]
  },
  {
   "cell_type": "code",
   "execution_count": null,
   "id": "75b0c811-971d-496f-9b51-3e2f430d4d63",
   "metadata": {},
   "outputs": [],
   "source": [
    "# Obtenemos una muestra en el intervalo (a, b)\n",
    "\n",
    "def realizar_muestra(a, b, n=10):\n",
    "    \"\"\"\n",
    "    a, b: intervalo\n",
    "    n: tamaño de la muestra\n",
    "    \"\"\"\n",
    "    return np.random.random(n)*(b - a) + a\n",
    "\n",
    "\n",
    "def evaluar_fx_muestra(m,r,x,y):\n",
    "    \"\"\"\n",
    "    m: muestra (array)\n",
    "    evaluamos la función f definida arriba\n",
    "    \"\"\"\n",
    "    return f(m,r,x,y)\n",
    "\n",
    "def evaluar_fx_muestraINV(m,r,x,y):\n",
    "    \"\"\"\n",
    "    m: muestra (array)\n",
    "    evaluamos la función f definida arriba\n",
    "    \"\"\"\n",
    "    return fm(m,r,x,y)"
   ]
  },
  {
   "cell_type": "markdown",
   "id": "604fa3b4-3ebd-444c-a3d3-6dd8ae1ba6a1",
   "metadata": {},
   "source": [
    " "
   ]
  },
  {
   "cell_type": "markdown",
   "id": "05866e9b-9ab4-4982-a77d-7eb24dbf1f21",
   "metadata": {},
   "source": [
    "Montecarlo por método de muestreo o SAMPLING - Implementacion 1 - Cálculo total"
   ]
  },
  {
   "cell_type": "code",
   "execution_count": null,
   "id": "e23c4c3f-0fb1-41db-b483-5304a05253eb",
   "metadata": {},
   "outputs": [],
   "source": [
    "# DATOS de posicion para los círculos y limites del área total\n",
    "ad,bd = 1.5, 1.866 # limites mitad derecha\n",
    "ai,bi = 1.133, 1.5 # limites mitad izq\n",
    "c = 1 # limite superior\n",
    "cx1,cy1 = 2,0 # posicion x , y del circulo 1\n",
    "cx2,cy2 = 1,1 # posicion x , y del circulo 2\n",
    "cx3,cy3 = 1,0 # posicion x , y del circulo 3\n",
    "cx4,cy4 = 2,1 # posicion x , y del circulo 4\n",
    "r = 1 # radio del circulo\n",
    "\n",
    "# Definimos las variables que contendran los resultados de cada funcion y se asigna los valores mediante los metodos definidos anteriormente\n",
    "x = np.linspace(1, 2, 10000)  # Rango para la variable x\n",
    "fx1 = f(x,r,cx1,cy1)  # Evaluamos f(x)\n",
    "fx2 = fm(x,r,cx2,cy2)  # Evaluamos f(x)\n",
    "fx3 = f(x,r,cx3,cy3)  # Evaluamos f(x)\n",
    "fx4 = fm(x,r,cx4,cy4)  # Evaluamos f(x)\n",
    "\n",
    "# Gráficos\n",
    "plt.plot(x, fx1); # Dibujamos f1(x)\n",
    "plt.plot(x, fx2); # Dibujamos f2(x)\n",
    "plt.plot(x, fx3); # Dibujamos f3(x)\n",
    "plt.plot(x, fx4); # Dibujamos f4(x)\n",
    "\n",
    "# Implementación 1\n",
    "\n",
    "t_muestras = [1, 10000]  # Rango T\n",
    "\n",
    "for t in t_muestras:\n",
    "    x_md = realizar_muestra(ad, bd, t)\n",
    "    x_mi = realizar_muestra(ai, bi, t)\n",
    "    f1_m = evaluar_fx_muestra(x_md,r,cx3,cy3) \n",
    "    f2_m = evaluar_fx_muestraINV(x_md,r,cx2,cy2)\n",
    "    f3_m = evaluar_fx_muestra(x_mi,r,cx1,cy1) \n",
    "    f4_m = evaluar_fx_muestraINV(x_mi,r,cx4,cy4)\n",
    "    areaDer = ((bd-ad)*sum(f1_m)/t) - ((bd-ad)*sum(f2_m)/t) #Calculamos area del lado derecho\n",
    "    areaIzq = ((bi-ai)*sum(f3_m)/t) - ((bi-ai)*sum(f4_m)/t) #Calculamos area del lado izquierdo\n",
    "    print(\"Area para n=\"+str(t), \"es\", areaDer + areaIzq) #sumamos las areas para desplegar el resultado\n",
    "    \n",
    "plt.plot(x_md, f1_m, 'o')  # Graficamos cada punto de la muestra (md, f1mi)\n",
    "plt.plot(x_md, f2_m, 'o')  # Graficamos cada punto de la muestra (md, f2mi)\n",
    "plt.plot(x_mi, f3_m, 'o')  # Graficamos cada punto de la muestra (mi, f3mi)\n",
    "plt.plot(x_mi, f4_m, 'o')  # Graficamos cada punto de la muestra (mi, f4mi)\n",
    "plt.show()"
   ]
  },
  {
   "cell_type": "markdown",
   "id": "ef72967c-64e2-43b3-ad45-7ce6a99402c4",
   "metadata": {},
   "source": [
    "Montecarlo por método de muestreo o SAMPLING - Implementacion 2 - Cálculo parcial"
   ]
  },
  {
   "cell_type": "code",
   "execution_count": null,
   "id": "6079dde5-8e4e-470b-9311-144fb3d25b92",
   "metadata": {},
   "outputs": [],
   "source": [
    "#Implementacion 2\n",
    "\n",
    "for t in t_muestras:\n",
    "    x_md = realizar_muestra(ad, bd, t)\n",
    "    f1_m = evaluar_fx_muestra(x_md,r,cx3,cy3) \n",
    "    f2_m = evaluar_fx_muestraINV(x_md,r,cx2,cy2)\n",
    "    areaDer = ((bd-ad)*sum(f1_m)/t) - ((bd-ad)*sum(f2_m)/t) #Calculamos area del lado derecho\n",
    "    print(\"Area para n=\"+str(t), \"es\", areaDer*2) #multiplicamos el area x2 debido a que ambos lados son simetricos\n",
    "\n",
    "plt.plot(x, fx1); # Dibujamos f(x)\n",
    "plt.plot(x, fx2); # Dibujamos f(x)\n",
    "plt.plot(x, fx3); # Dibujamos f(x)\n",
    "plt.plot(x, fx4); # Dibujamos f(x)\n",
    "plt.plot(x_md, f1_m, 'o')  # Graficamos cada punto de la muestra (mi, fmi)\n",
    "plt.plot(x_md, f2_m, 'o')  # Graficamos cada punto de la muestra (mi, fmi)\n",
    "plt.xlim([1.5, 2])\n",
    "plt.show"
   ]
  },
  {
   "cell_type": "markdown",
   "id": "3283184e-596c-497d-aeb4-e34e92bb1bc0",
   "metadata": {},
   "source": [
    "El área es = 0.31 aproximadamente\n",
    "Ambas implementaciones son correctas y dan resultados similares.\n",
    "Por otro lado, la segunda implementación llega a ser mas rapida al solo calcular la mitad de la figura. Esta se basa en el conocimiento que la figura es simétrica y debido a ello\n",
    "calcula los valores del lado derecho para así doblarlos y obtener un resultado total. Ambos métodos pueden ser usados pero se recomienda utilizar el segundo en caso de necesitar realizar\n",
    "una cantidad de muestras más grande por temas de rendimiento."
   ]
  },
  {
   "cell_type": "markdown",
   "id": "50e1e74e-2bda-4087-85ac-e5a3d7b92de6",
   "metadata": {},
   "source": [
    " "
   ]
  },
  {
   "cell_type": "markdown",
   "id": "2094de36-239e-4ce6-abc2-92a853bde787",
   "metadata": {},
   "source": [
    "Montecarlo por método de Hit n Miss - Implementacion 2 - Cálculo parcial"
   ]
  },
  {
   "cell_type": "markdown",
   "id": "4c2d4b11-509d-46fa-84a1-93a3ff67088d",
   "metadata": {},
   "source": [
    "En el método Hit and Miss de Montecarlo buscamos obtener un área de valor X, en donde X ⊂ Y de la forma"
   ]
  },
  {
   "attachments": {
    "447f7f80-494c-44d2-bb7f-24c161846f0e.png": {
     "image/png": "[encoded data removed]"
    }
   },
   "cell_type": "markdown",
   "id": "7864cbaf-edbe-4c9d-8a14-8e519ba163ab",
   "metadata": {},
   "source": [
    "![Fomula hit and miss.png](attachment:447f7f80-494c-44d2-bb7f-24c161846f0e.png)"
   ]
  },
  {
   "cell_type": "markdown",
   "id": "16f37f56-c368-40dc-8d97-6fee20f5e33f",
   "metadata": {},
   "source": [
    "De esta manera las variables en los intervalos [a,b] y [c,d], de esta manera si Y1 y Y2 son independientes se puede aplicar la fórmula"
   ]
  },
  {
   "attachments": {
    "2ca5b4ec-6788-4bee-9574-fa77258b74e5.png": {
     "image/png": "[encoded data removed]"
    }
   },
   "cell_type": "markdown",
   "id": "9546d167-1bd6-4830-b044-2bec61475382",
   "metadata": {},
   "source": [
    "![Formula independiente en Y.png](attachment:2ca5b4ec-6788-4bee-9574-fa77258b74e5.png)"
   ]
  },
  {
   "cell_type": "markdown",
   "id": "7fd005e9-69ea-426a-a4f4-fd6c29eb8131",
   "metadata": {},
   "source": [
    "De esta manera podemos aislar la variable X para lograr la fórmula"
   ]
  },
  {
   "attachments": {
    "4f0368ef-69cb-4998-9654-93f4c3824bb4.png": {
     "image/png": "[encoded data removed]"
    }
   },
   "cell_type": "markdown",
   "id": "92c2cdb8-58ef-4ea5-8ae1-97e9cebc1f22",
   "metadata": {},
   "source": [
    "![Formula de X.png](attachment:4f0368ef-69cb-4998-9654-93f4c3824bb4.png)"
   ]
  },
  {
   "cell_type": "markdown",
   "id": "8d8573c3-0f26-49b3-8c6c-7eb5f2e0e2c5",
   "metadata": {},
   "source": [
    "De esta maner podemos aplicar el metodo de Montecarlo para de esta manera por medio de número pseudoaleatorios los valores de a,b,c,d"
   ]
  },
  {
   "cell_type": "code",
   "execution_count": null,
   "id": "10d6508e-238f-4a08-a683-904ae9024b4c",
   "metadata": {},
   "outputs": [],
   "source": [
    "# Graficamos la función\n",
    "ad,bd = 1.5, 1.866 #ancho parte derecha\n",
    "ai,bi = 1.133, 1.5 #ancho parte izq\n",
    "c = 1 #alto\n",
    "cx1,cy1 = 2,0\n",
    "cx2,cy2 = 1,1\n",
    "cx3,cy3 = 1,0\n",
    "cx4,cy4 = 2,1\n",
    "r = 1\n",
    "\n",
    "\n",
    "#Definimos las funciones a usar para recrear al forma\n",
    "x = np.linspace(1, 2, 10000)  # Rango para la variable x\n",
    "fx1 = f(x,r,cx1,cy1)  # Evaluamos f(x)\n",
    "fx2 = fm(x,r,cx2,cy2)  # Evaluamos f(x)\n",
    "fx3 = f(x,r,cx3,cy3)  # Evaluamos f(x)\n",
    "fx4 = fm(x,r,cx4,cy4)  # Evaluamos f(x)\n",
    "plt.plot(x, fx1); # Dibujamos f(x)\n",
    "plt.plot(x, fx2); # Dibujamos f(x)\n",
    "plt.plot(x, fx3); # Dibujamos f(x)\n",
    "plt.plot(x, fx4); # Dibujamos f(x)\n",
    "\n",
    "#Definimos el Ancho del Tablero\n",
    "a, b = 1, 2\n",
    "c = 1 #Definimos el Alto del Tablero\n",
    "\n",
    "n=1000\n",
    "\n",
    "#Implementación 1\n",
    "xi_random = np.random.random(size=n)*(b-a)+a \n",
    "yi_random = np.random.random(size=n)*c\n",
    "\n",
    "plt.plot(xi_random, yi_random, '.')\n",
    "\n",
    "dentro = np.where((f(xi_random, r, cx1, cy1) > yi_random) & (fm(xi_random, r, cx2, cy2) < yi_random) & (f(xi_random, r, cx3, cy3) > yi_random) & (fm(xi_random, r, cx4, cy4) < yi_random))[0]\n",
    "fuera = np.where((f(xi_random, r, cx1, cy1) < yi_random) & (fm(xi_random, r, cx2, cy2) > yi_random) & (f(xi_random, r, cx3, cy3) < yi_random) & (fm(xi_random, r, cx4, cy4) > yi_random))[0]\n",
    "\n",
    "plt.plot(xi_random[dentro], yi_random[dentro], '.')\n",
    "\n",
    "(b-a)*c*len(dentro)/n"
   ]
  },
  {
   "cell_type": "code",
   "execution_count": null,
   "id": "4a9f5af5",
   "metadata": {},
   "outputs": [],
   "source": [
    "#Definimos las funciones a usar para recrear al forma\n",
    "x = np.linspace(1, 2, 10000)  # Rango para la variable x\n",
    "fx1 = f(x,r,cx1,cy1)  # Evaluamos f(x)\n",
    "fx2 = fm(x,r,cx2,cy2)  # Evaluamos f(x)\n",
    "fx3 = f(x,r,cx3,cy3)  # Evaluamos f(x)\n",
    "fx4 = fm(x,r,cx4,cy4)  # Evaluamos f(x)\n",
    "plt.plot(x, fx1); # Dibujamos f(x)\n",
    "plt.plot(x, fx2); # Dibujamos f(x)\n",
    "plt.plot(x, fx3); # Dibujamos f(x)\n",
    "plt.plot(x, fx4); # Dibujamos f(x)\n",
    "\n",
    "#Implementación 1\n",
    "xi_random = np.random.random(size=n)*(b-a)+a \n",
    "yi_random = np.random.random(size=n)*c\n",
    "\n",
    "plt.plot(xi_random, yi_random, '.')\n",
    "\n",
    "dentro = np.where((f(xi_random, r, cx1, cy1) > yi_random) & (fm(xi_random, r, cx2, cy2) < yi_random) & (f(xi_random, r, cx3, cy3) > yi_random) & (fm(xi_random, r, cx4, cy4) < yi_random))[0]\n",
    "fuera = np.where((f(xi_random, r, cx1, cy1) < yi_random) & (fm(xi_random, r, cx2, cy2) > yi_random) & (f(xi_random, r, cx3, cy3) < yi_random) & (fm(xi_random, r, cx4, cy4) > yi_random))[0]\n",
    "\n",
    "plt.plot(xi_random[dentro], yi_random[dentro], '.')\n",
    "\n",
    "(b-a)*c*len(dentro)/n"
   ]
  },
  {
   "cell_type": "markdown",
   "id": "47d800f5-985e-426f-a684-0a1e3a31a31d",
   "metadata": {},
   "source": [
    " "
   ]
  },
  {
   "cell_type": "markdown",
   "id": "57580b90-40cd-47bb-b4f1-cf21802720be",
   "metadata": {},
   "source": [
    "Fuentes utilizadas"
   ]
  },
  {
   "cell_type": "markdown",
   "id": "35562727-7705-48d4-ad40-f804599a242f",
   "metadata": {},
   "source": [
    "https://anaconda.org/marsgr6/simulation_notebook/notebook - Referencia del método de integración por Montecarlo"
   ]
  },
  {
   "cell_type": "markdown",
   "id": "45a1fdcb-cf45-49eb-96f8-042ee4c90dfe",
   "metadata": {},
   "source": [
    "https://www.bbc.co.uk/bitesize/guides/z9pssbk/revision/2 - Fórmulas círculo"
   ]
  },
  {
   "cell_type": "markdown",
   "id": "eb223970-86e4-4227-a6f8-59df158c79d7",
   "metadata": {},
   "source": [
    "https://mindyourdecisions.com/blog/2019/11/14/quarter-circles-in-a-square-what-is-the-area/ - Resolución analítica del ejercicio"
   ]
  },
  {
   "cell_type": "markdown",
   "id": "cde393a7-ec6f-4f86-aece-9c94ee90327c",
   "metadata": {},
   "source": [
    "https://mljar.com/blog/jupyter-notebook-insert-image/ - Insertar imágenes"
   ]
  },
  {
   "cell_type": "markdown",
   "id": "538bcc2e-fb16-43e8-9969-2578bcd44e27",
   "metadata": {},
   "source": []
  }
 ],
 "metadata": {
  "kernelspec": {
   "display_name": "Python 3 (ipykernel)",
   "language": "python",
   "name": "python3"
  },
  "language_info": {
   "codemirror_mode": {
    "name": "ipython",
    "version": 3
   },
   "file_extension": ".py",
   "mimetype": "text/x-python",
   "name": "python",
   "nbconvert_exporter": "python",
   "pygments_lexer": "ipython3",
   "version": "3.10.9"
  }
 },
 "nbformat": 4,
 "nbformat_minor": 5
}
